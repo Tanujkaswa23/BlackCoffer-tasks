{
 "cells": [
  {
   "cell_type": "code",
   "execution_count": 1,
   "id": "ed09b9a8",
   "metadata": {},
   "outputs": [],
   "source": [
    "from neo4j import GraphDatabase\n",
    "\n",
    "uri = \"bolt://localhost:7687\" \n",
    "username = \"neo4j\" \n",
    "password = \"friend1234\"  \n",
    "driver = GraphDatabase.driver(uri, auth=(username, password))"
   ]
  },
  {
   "cell_type": "code",
   "execution_count": 2,
   "id": "493c5762",
   "metadata": {},
   "outputs": [],
   "source": [
    "def add_user(tx, name):\n",
    "    query = (\n",
    "        \"CREATE (u:User {name: $name}) \"\n",
    "        \"RETURN u\"\n",
    "    )\n",
    "    return tx.run(query, name=name)\n"
   ]
  },
  {
   "cell_type": "code",
   "execution_count": 3,
   "id": "e6eb37b8",
   "metadata": {},
   "outputs": [],
   "source": [
    "def create_friendship(tx, user1, user2):\n",
    "    query = (\n",
    "        \"MATCH (a:User {name: $user1}), (b:User {name: $user2})\"\n",
    "        \"MERGE (a)-[:FRIENDS_WITH]->(b) \"\n",
    "        \"MERGE (b)-[:FRIENDS_WITH]->(a) \"\n",
    "        \"RETURN a, b\"\n",
    "    )\n",
    "    return tx.run(query, user1=user1, user2=user2)\n"
   ]
  },
  {
   "cell_type": "code",
   "execution_count": 4,
   "id": "98764f19",
   "metadata": {},
   "outputs": [],
   "source": [
    "def find_friends(tx, name):\n",
    "    query = (\n",
    "        \"MATCH (u:User {name: $name})-[:FRIENDS_WITH]->(friend) \"\n",
    "        \"RETURN friend.name AS friendName\"\n",
    "    )\n",
    "    results = tx.run(query, name=name)\n",
    "    for record in results:\n",
    "        print(f\"{name} is friend with {record['friendName']}\")\n"
   ]
  },
  {
   "cell_type": "code",
   "execution_count": 5,
   "id": "00d37137",
   "metadata": {},
   "outputs": [
    {
     "name": "stderr",
     "output_type": "stream",
     "text": [
      "C:\\Users\\tanuj\\AppData\\Local\\Temp\\ipykernel_58080\\2785149743.py:3: DeprecationWarning: write_transaction has been renamed to execute_write\n",
      "  session.write_transaction(add_user, \"Tanuj\")\n",
      "C:\\Users\\tanuj\\AppData\\Local\\Temp\\ipykernel_58080\\2785149743.py:4: DeprecationWarning: write_transaction has been renamed to execute_write\n",
      "  session.write_transaction(add_user, \"Karan\")\n"
     ]
    }
   ],
   "source": [
    "with driver.session() as session:\n",
    "    session.write_transaction(add_user, \"Tanuj\")\n",
    "    session.write_transaction(add_user, \"Karan\")"
   ]
  },
  {
   "cell_type": "code",
   "execution_count": 6,
   "id": "8176ad9b",
   "metadata": {},
   "outputs": [
    {
     "name": "stderr",
     "output_type": "stream",
     "text": [
      "C:\\Users\\tanuj\\AppData\\Local\\Temp\\ipykernel_58080\\3176619683.py:3: DeprecationWarning: write_transaction has been renamed to execute_write\n",
      "  session.write_transaction(create_friendship, \"Tanuj\", \"Karan\")\n"
     ]
    }
   ],
   "source": [
    "with driver.session() as session:\n",
    "    session.write_transaction(create_friendship, \"Tanuj\", \"Karan\")"
   ]
  },
  {
   "cell_type": "code",
   "execution_count": 7,
   "id": "82a25ba0",
   "metadata": {},
   "outputs": [
    {
     "name": "stdout",
     "output_type": "stream",
     "text": [
      "Tanuj is friend with Karan\n"
     ]
    },
    {
     "name": "stderr",
     "output_type": "stream",
     "text": [
      "C:\\Users\\tanuj\\AppData\\Local\\Temp\\ipykernel_58080\\3399177056.py:3: DeprecationWarning: read_transaction has been renamed to execute_read\n",
      "  session.read_transaction(find_friends, \"Tanuj\")\n"
     ]
    }
   ],
   "source": [
    "with driver.session() as session:\n",
    "    session.read_transaction(find_friends, \"Tanuj\")"
   ]
  },
  {
   "cell_type": "code",
   "execution_count": 8,
   "id": "6fac4d6c",
   "metadata": {},
   "outputs": [
    {
     "name": "stderr",
     "output_type": "stream",
     "text": [
      "C:\\Users\\tanuj\\AppData\\Local\\Temp\\ipykernel_58080\\2203947853.py:3: DeprecationWarning: write_transaction has been renamed to execute_write\n",
      "  session.write_transaction(add_user, \"Om\")\n"
     ]
    }
   ],
   "source": [
    "with driver.session() as session:\n",
    "    session.write_transaction(add_user, \"Om\")"
   ]
  },
  {
   "cell_type": "code",
   "execution_count": 9,
   "id": "3036323c",
   "metadata": {},
   "outputs": [
    {
     "name": "stderr",
     "output_type": "stream",
     "text": [
      "C:\\Users\\tanuj\\AppData\\Local\\Temp\\ipykernel_58080\\3624049090.py:3: DeprecationWarning: write_transaction has been renamed to execute_write\n",
      "  session.write_transaction(create_friendship, \"Tanuj\", \"Om\")\n"
     ]
    }
   ],
   "source": [
    "with driver.session() as session:\n",
    "    session.write_transaction(create_friendship, \"Tanuj\", \"Om\")"
   ]
  },
  {
   "cell_type": "code",
   "execution_count": 10,
   "id": "852e60f0",
   "metadata": {},
   "outputs": [
    {
     "name": "stdout",
     "output_type": "stream",
     "text": [
      "Tanuj is friend with Karan\n",
      "Tanuj is friend with Om\n"
     ]
    },
    {
     "name": "stderr",
     "output_type": "stream",
     "text": [
      "C:\\Users\\tanuj\\AppData\\Local\\Temp\\ipykernel_58080\\3399177056.py:3: DeprecationWarning: read_transaction has been renamed to execute_read\n",
      "  session.read_transaction(find_friends, \"Tanuj\")\n"
     ]
    }
   ],
   "source": [
    "with driver.session() as session:\n",
    "    session.read_transaction(find_friends, \"Tanuj\")"
   ]
  },
  {
   "cell_type": "code",
   "execution_count": 11,
   "id": "e298dbaf",
   "metadata": {},
   "outputs": [
    {
     "name": "stderr",
     "output_type": "stream",
     "text": [
      "C:\\Users\\tanuj\\AppData\\Local\\Temp\\ipykernel_58080\\1627771627.py:3: DeprecationWarning: write_transaction has been renamed to execute_write\n",
      "  session.write_transaction(add_user, \"Durvesh\")\n",
      "C:\\Users\\tanuj\\AppData\\Local\\Temp\\ipykernel_58080\\1627771627.py:4: DeprecationWarning: write_transaction has been renamed to execute_write\n",
      "  session.write_transaction(add_user, \"Shivtej\")\n"
     ]
    }
   ],
   "source": [
    "with driver.session() as session:\n",
    "    session.write_transaction(add_user, \"Durvesh\")\n",
    "    session.write_transaction(add_user, \"Shivtej\")"
   ]
  },
  {
   "cell_type": "code",
   "execution_count": 12,
   "id": "014b3e58",
   "metadata": {},
   "outputs": [
    {
     "name": "stderr",
     "output_type": "stream",
     "text": [
      "C:\\Users\\tanuj\\AppData\\Local\\Temp\\ipykernel_58080\\1837695039.py:3: DeprecationWarning: write_transaction has been renamed to execute_write\n",
      "  session.write_transaction(create_friendship, \"Durvesh\", \"Shivtej\")\n",
      "C:\\Users\\tanuj\\AppData\\Local\\Temp\\ipykernel_58080\\1837695039.py:4: DeprecationWarning: write_transaction has been renamed to execute_write\n",
      "  session.write_transaction(create_friendship, \"Tanuj\", \"Shivtej\")\n",
      "C:\\Users\\tanuj\\AppData\\Local\\Temp\\ipykernel_58080\\1837695039.py:5: DeprecationWarning: write_transaction has been renamed to execute_write\n",
      "  session.write_transaction(create_friendship, \"Om\", \"Shivtej\")\n",
      "C:\\Users\\tanuj\\AppData\\Local\\Temp\\ipykernel_58080\\1837695039.py:6: DeprecationWarning: write_transaction has been renamed to execute_write\n",
      "  session.write_transaction(create_friendship, \"Om\", \"Durvesh\")\n",
      "C:\\Users\\tanuj\\AppData\\Local\\Temp\\ipykernel_58080\\1837695039.py:7: DeprecationWarning: write_transaction has been renamed to execute_write\n",
      "  session.write_transaction(create_friendship, \"Om\", \"Karan\")\n"
     ]
    }
   ],
   "source": [
    "with driver.session() as session:\n",
    "    session.write_transaction(create_friendship, \"Durvesh\", \"Shivtej\")\n",
    "    session.write_transaction(create_friendship, \"Tanuj\", \"Shivtej\")\n",
    "    session.write_transaction(create_friendship, \"Om\", \"Shivtej\")\n",
    "    session.write_transaction(create_friendship, \"Om\", \"Durvesh\")\n",
    "    session.write_transaction(create_friendship, \"Om\", \"Karan\")    "
   ]
  },
  {
   "cell_type": "code",
   "execution_count": 13,
   "id": "997fad19",
   "metadata": {},
   "outputs": [
    {
     "name": "stdout",
     "output_type": "stream",
     "text": [
      "Tanuj is friend with Shivtej\n",
      "Tanuj is friend with Om\n",
      "Tanuj is friend with Karan\n",
      "Om is friend with Karan\n",
      "Om is friend with Durvesh\n",
      "Om is friend with Shivtej\n",
      "Om is friend with Tanuj\n",
      "Durvesh is friend with Om\n",
      "Durvesh is friend with Shivtej\n",
      "Shivtej is friend with Om\n",
      "Shivtej is friend with Tanuj\n",
      "Shivtej is friend with Durvesh\n",
      "Karan is friend with Om\n",
      "Karan is friend with Tanuj\n"
     ]
    },
    {
     "name": "stderr",
     "output_type": "stream",
     "text": [
      "C:\\Users\\tanuj\\AppData\\Local\\Temp\\ipykernel_58080\\2841751056.py:3: DeprecationWarning: read_transaction has been renamed to execute_read\n",
      "  session.read_transaction(find_friends, \"Tanuj\")\n",
      "C:\\Users\\tanuj\\AppData\\Local\\Temp\\ipykernel_58080\\2841751056.py:4: DeprecationWarning: read_transaction has been renamed to execute_read\n",
      "  session.read_transaction(find_friends, \"Om\")\n",
      "C:\\Users\\tanuj\\AppData\\Local\\Temp\\ipykernel_58080\\2841751056.py:5: DeprecationWarning: read_transaction has been renamed to execute_read\n",
      "  session.read_transaction(find_friends, \"Durvesh\")\n",
      "C:\\Users\\tanuj\\AppData\\Local\\Temp\\ipykernel_58080\\2841751056.py:6: DeprecationWarning: read_transaction has been renamed to execute_read\n",
      "  session.read_transaction(find_friends, \"Shivtej\")\n",
      "C:\\Users\\tanuj\\AppData\\Local\\Temp\\ipykernel_58080\\2841751056.py:7: DeprecationWarning: read_transaction has been renamed to execute_read\n",
      "  session.read_transaction(find_friends, \"Karan\")\n"
     ]
    }
   ],
   "source": [
    "with driver.session() as session:\n",
    "    session.read_transaction(find_friends, \"Tanuj\")\n",
    "    session.read_transaction(find_friends, \"Om\")\n",
    "    session.read_transaction(find_friends, \"Durvesh\")\n",
    "    session.read_transaction(find_friends, \"Shivtej\")\n",
    "    session.read_transaction(find_friends, \"Karan\")\n",
    "    \n",
    "    "
   ]
  },
  {
   "cell_type": "code",
   "execution_count": 14,
   "id": "1be3fa88",
   "metadata": {},
   "outputs": [
    {
     "name": "stderr",
     "output_type": "stream",
     "text": [
      "C:\\Users\\tanuj\\AppData\\Local\\Temp\\ipykernel_58080\\2432799859.py:2: DeprecationWarning: write_transaction has been renamed to execute_write\n",
      "  session.write_transaction(add_user, \"Manasi\")\n"
     ]
    }
   ],
   "source": [
    "with driver.session() as session:\n",
    "    session.write_transaction(add_user, \"Manasi\")\n",
    "    "
   ]
  },
  {
   "cell_type": "code",
   "execution_count": 15,
   "id": "71470b4f",
   "metadata": {},
   "outputs": [
    {
     "name": "stderr",
     "output_type": "stream",
     "text": [
      "C:\\Users\\tanuj\\AppData\\Local\\Temp\\ipykernel_58080\\765254748.py:3: DeprecationWarning: write_transaction has been renamed to execute_write\n",
      "  session.write_transaction(create_friendship, \"Om\", \"Manasi\")\n"
     ]
    }
   ],
   "source": [
    "with driver.session() as session:\n",
    "    session.write_transaction(create_friendship, \"Om\", \"Manasi\")\n",
    "    "
   ]
  },
  {
   "cell_type": "code",
   "execution_count": 16,
   "id": "287627ba",
   "metadata": {},
   "outputs": [
    {
     "name": "stdout",
     "output_type": "stream",
     "text": [
      "Tanuj is friend with Shivtej\n",
      "Tanuj is friend with Om\n",
      "Tanuj is friend with Karan\n",
      "Om is friend with Manasi\n",
      "Om is friend with Karan\n",
      "Om is friend with Durvesh\n",
      "Om is friend with Shivtej\n",
      "Om is friend with Tanuj\n",
      "Durvesh is friend with Om\n",
      "Durvesh is friend with Shivtej\n",
      "Shivtej is friend with Om\n",
      "Shivtej is friend with Tanuj\n",
      "Shivtej is friend with Durvesh\n",
      "Karan is friend with Om\n",
      "Karan is friend with Tanuj\n"
     ]
    },
    {
     "name": "stderr",
     "output_type": "stream",
     "text": [
      "C:\\Users\\tanuj\\AppData\\Local\\Temp\\ipykernel_58080\\1150201600.py:3: DeprecationWarning: read_transaction has been renamed to execute_read\n",
      "  session.read_transaction(find_friends, \"Tanuj\")\n",
      "C:\\Users\\tanuj\\AppData\\Local\\Temp\\ipykernel_58080\\1150201600.py:4: DeprecationWarning: read_transaction has been renamed to execute_read\n",
      "  session.read_transaction(find_friends, \"Om\")\n",
      "C:\\Users\\tanuj\\AppData\\Local\\Temp\\ipykernel_58080\\1150201600.py:5: DeprecationWarning: read_transaction has been renamed to execute_read\n",
      "  session.read_transaction(find_friends, \"Durvesh\")\n",
      "C:\\Users\\tanuj\\AppData\\Local\\Temp\\ipykernel_58080\\1150201600.py:6: DeprecationWarning: read_transaction has been renamed to execute_read\n",
      "  session.read_transaction(find_friends, \"Shivtej\")\n",
      "C:\\Users\\tanuj\\AppData\\Local\\Temp\\ipykernel_58080\\1150201600.py:7: DeprecationWarning: read_transaction has been renamed to execute_read\n",
      "  session.read_transaction(find_friends, \"Karan\")\n"
     ]
    }
   ],
   "source": [
    "with driver.session() as session:\n",
    "    session.read_transaction(find_friends, \"Tanuj\")\n",
    "    session.read_transaction(find_friends, \"Om\")\n",
    "    session.read_transaction(find_friends, \"Durvesh\")\n",
    "    session.read_transaction(find_friends, \"Shivtej\")\n",
    "    session.read_transaction(find_friends, \"Karan\")"
   ]
  },
  {
   "cell_type": "code",
   "execution_count": 17,
   "id": "0ef33e49",
   "metadata": {},
   "outputs": [
    {
     "name": "stderr",
     "output_type": "stream",
     "text": [
      "C:\\Users\\tanuj\\AppData\\Local\\Temp\\ipykernel_58080\\2769209061.py:2: DeprecationWarning: write_transaction has been renamed to execute_write\n",
      "  session.write_transaction(create_friendship, \"Tanuj\", \"Durvesh\")\n"
     ]
    }
   ],
   "source": [
    "with driver.session() as session:\n",
    "    session.write_transaction(create_friendship, \"Tanuj\", \"Durvesh\")\n",
    "    "
   ]
  },
  {
   "cell_type": "code",
   "execution_count": 18,
   "id": "b2f45ccb",
   "metadata": {},
   "outputs": [],
   "source": [
    "def add_class(tx, class_name):\n",
    "    query = (\n",
    "        \"CREATE (c:Class {name: $class_name}) \"\n",
    "        \"RETURN c\"\n",
    "    )\n",
    "    return tx.run(query, class_name=class_name)\n"
   ]
  },
  {
   "cell_type": "code",
   "execution_count": 19,
   "id": "d8e5f407",
   "metadata": {
    "scrolled": false
   },
   "outputs": [],
   "source": [
    "def enroll_user_in_class(tx, user_name, class_name):\n",
    "    query = (\n",
    "        \"MATCH (u:User {name: $user_name}), (c:Class {name: $class_name}) \"\n",
    "        \"MERGE (u)-[:ENROLLED_IN]->(c) \"\n",
    "        \"RETURN u, c\"\n",
    "    )\n",
    "    return tx.run(query, user_name=user_name, class_name=class_name)\n"
   ]
  },
  {
   "cell_type": "code",
   "execution_count": 24,
   "id": "6165f75e",
   "metadata": {},
   "outputs": [
    {
     "name": "stderr",
     "output_type": "stream",
     "text": [
      "C:\\Users\\tanuj\\AppData\\Local\\Temp\\ipykernel_58080\\2456501609.py:3: DeprecationWarning: write_transaction has been renamed to execute_write\n",
      "  session.write_transaction(add_class, \"BE_(B)\")\n",
      "C:\\Users\\tanuj\\AppData\\Local\\Temp\\ipykernel_58080\\2456501609.py:4: DeprecationWarning: write_transaction has been renamed to execute_write\n",
      "  session.write_transaction(add_class, \"BE_(A)\")\n",
      "C:\\Users\\tanuj\\AppData\\Local\\Temp\\ipykernel_58080\\2456501609.py:8: DeprecationWarning: write_transaction has been renamed to execute_write\n",
      "  session.write_transaction(enroll_user_in_class, \"Tanuj\", \"BE_(B)\")\n",
      "C:\\Users\\tanuj\\AppData\\Local\\Temp\\ipykernel_58080\\2456501609.py:9: DeprecationWarning: write_transaction has been renamed to execute_write\n",
      "  session.write_transaction(enroll_user_in_class, \"Karan\", \"BE_(B)\")\n",
      "C:\\Users\\tanuj\\AppData\\Local\\Temp\\ipykernel_58080\\2456501609.py:10: DeprecationWarning: write_transaction has been renamed to execute_write\n",
      "  session.write_transaction(enroll_user_in_class, \"Manasi\", \"BE_(B)\")\n",
      "C:\\Users\\tanuj\\AppData\\Local\\Temp\\ipykernel_58080\\2456501609.py:11: DeprecationWarning: write_transaction has been renamed to execute_write\n",
      "  session.write_transaction(enroll_user_in_class, \"Om\", \"BE_(A)\")\n",
      "C:\\Users\\tanuj\\AppData\\Local\\Temp\\ipykernel_58080\\2456501609.py:12: DeprecationWarning: write_transaction has been renamed to execute_write\n",
      "  session.write_transaction(enroll_user_in_class, \"Durvesh\", \"BE_(A)\")\n",
      "C:\\Users\\tanuj\\AppData\\Local\\Temp\\ipykernel_58080\\2456501609.py:13: DeprecationWarning: write_transaction has been renamed to execute_write\n",
      "  session.write_transaction(enroll_user_in_class, \"Shivtej\", \"BE_(A)\")\n"
     ]
    }
   ],
   "source": [
    "with driver.session() as session:\n",
    "    session.write_transaction(add_class, \"BE_(B)\")\n",
    "    session.write_transaction(add_class, \"BE_(A)\")\n",
    "\n",
    "with driver.session() as session:\n",
    "    session.write_transaction(enroll_user_in_class, \"Tanuj\", \"BE_(B)\")\n",
    "    session.write_transaction(enroll_user_in_class, \"Karan\", \"BE_(B)\")\n",
    "    session.write_transaction(enroll_user_in_class, \"Manasi\", \"BE_(B)\")\n",
    "    session.write_transaction(enroll_user_in_class, \"Om\", \"BE_(A)\")\n",
    "    session.write_transaction(enroll_user_in_class, \"Durvesh\", \"BE_(A)\")\n",
    "    session.write_transaction(enroll_user_in_class, \"Shivtej\", \"BE_(A)\")\n",
    "    \n"
   ]
  },
  {
   "cell_type": "code",
   "execution_count": 25,
   "id": "d71a44e8",
   "metadata": {
    "scrolled": false
   },
   "outputs": [],
   "source": [
    "def find_user_classes(tx, user_name):\n",
    "    query = (\n",
    "        \"MATCH (u:User {name: $user_name})-[:ENROLLED_IN]->(c:Class) \"\n",
    "        \"RETURN c.name AS className\"\n",
    "    )\n",
    "    results = tx.run(query, user_name=user_name)\n",
    "    for record in results:\n",
    "        print(f\"{user_name} is enrolled in {record['className']}\")\n"
   ]
  },
  {
   "cell_type": "code",
   "execution_count": 26,
   "id": "cfb6874f",
   "metadata": {},
   "outputs": [],
   "source": [
    "def find_class(tx, class_name):\n",
    "    query = (\n",
    "        \"MATCH (cl:Class {name: $class_name})-[:IN_CLASS]->(User) \"\n",
    "        \"RETURN User.name AS userName\"\n",
    "    )\n",
    "    results = tx.run(query, class_name=class_name)\n",
    "    for record in results:\n",
    "        print(f\"{class_name} is in class {record['userName']}\")\n"
   ]
  },
  {
   "cell_type": "code",
   "execution_count": 27,
   "id": "9a732448",
   "metadata": {},
   "outputs": [
    {
     "name": "stdout",
     "output_type": "stream",
     "text": [
      "Tanuj is enrolled in BE_(B)\n"
     ]
    },
    {
     "name": "stderr",
     "output_type": "stream",
     "text": [
      "C:\\Users\\tanuj\\AppData\\Local\\Temp\\ipykernel_58080\\1066793660.py:3: DeprecationWarning: read_transaction has been renamed to execute_read\n",
      "  session.read_transaction(find_user_classes, \"Tanuj\")\n"
     ]
    }
   ],
   "source": [
    "with driver.session() as session:\n",
    "    session.read_transaction(find_user_classes, \"Tanuj\")\n"
   ]
  },
  {
   "cell_type": "code",
   "execution_count": null,
   "id": "2415f1ef",
   "metadata": {},
   "outputs": [],
   "source": []
  }
 ],
 "metadata": {
  "kernelspec": {
   "display_name": "Python 3 (ipykernel)",
   "language": "python",
   "name": "python3"
  },
  "language_info": {
   "codemirror_mode": {
    "name": "ipython",
    "version": 3
   },
   "file_extension": ".py",
   "mimetype": "text/x-python",
   "name": "python",
   "nbconvert_exporter": "python",
   "pygments_lexer": "ipython3",
   "version": "3.9.12"
  }
 },
 "nbformat": 4,
 "nbformat_minor": 5
}
